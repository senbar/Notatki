{
 "cells": [
  {
   "cell_type": "markdown",
   "id": "8da7ed76",
   "metadata": {},
   "source": [
    "## Async programming\n",
    "Task asynchronous programming model(TAP).\n",
    "Task await doesnt block thread.\n",
    "if any part of code is async entire code block is async- tells compiler that some threads will be released when await. \n",
    "\n",
    "In depth: https://docs.microsoft.com/en-us/dotnet/standard/async-in-depth\n",
    "\n",
    "Important!\n",
    "when task is I/O bound use async await in standard form: if I/O-bound task is run no thread is dedicated to running the task.\n",
    "Most of the time application hands off work to other system lib that takes time. thats why servers should use async- it frees \n",
    "server pool when I/O task is being done. IT should be done like that is asp net too:\n",
    "https://stackoverflow.com/questions/41953102/using-async-await-or-task-in-web-api-controller-net-core"
   ]
  },
  {
   "cell_type": "code",
   "execution_count": null,
   "id": "692d6fde",
   "metadata": {
    "scrolled": true
   },
   "outputs": [],
   "source": [
    "//this starts task \n",
    "private bool CalculateDamageDone()\n",
    "{\n",
    "    // Code omitted:\n",
    "    //\n",
    "    // Does an expensive calculation and returns\n",
    "    // the result of that calculation.\n",
    "    return true;\n",
    "}\n",
    "\n",
    "var task  = async (o, e) =>\n",
    "{\n",
    "    // This line will yield control to the UI while CalculateDamageDone()\n",
    "    // performs its work. The UI thread is free to perform other work.\n",
    "    var damageResult = await Task.Run(() => CalculateDamageDone());\n",
    "    // DisplayDamage(damageResult);\n",
    "};"
   ]
  },
  {
   "cell_type": "markdown",
   "id": "6e68adc1",
   "metadata": {},
   "source": [
    "This is because it spawns another thread. Keep in mind this does not offer any extra protection for shared data.\n",
    "You should use Task.Run, but not within any code you want to be reusable (i.e., library code). So you use Task.Run to call the method, not as part of the implementation of the method.\n",
    "Async void should only be used for event handlers. On ui exceptions are thrown onto dispatcher. Normaly they cant be awaited on\n",
    "and exception crashes app.\n",
    "Tread carefully when using async lambdas in LINQ expressions\n",
    "\n",
    "returning reference type may impact performance. Consider using ValueTask from c#7.0. You may define your own return type with gGetAwaiter method to return task.\n",
    "IAsyncEnumerable works for async methods that return streams from C#8.0\n",
    "\n",
    "### Cancelling tasks\n",
    "\n",
    "W celu przerywania taskow uzywa sie CancellationTokenSource. Podaje sie taki obiekt w parametrze do kazdeego taska.\n",
    "\n",
    "### Obslugiwanie taskow w miare ich ukonczenia\n",
    "metoda ta jest zlozona obliczeniowa w przypadku duzej ilosci taskow powinno sie uzywac metod opisanych w linku ponizej"
   ]
  },
  {
   "cell_type": "code",
   "execution_count": null,
   "id": "21601227",
   "metadata": {},
   "outputs": [],
   "source": [
    "\n",
    "\n",
    "while (downloadTasks.Any())\n",
    "    {\n",
    "        Task<int> finishedTask = await Task.WhenAny(downloadTasks);\n",
    "        downloadTasks.Remove(finishedTask);\n",
    "        total += await finishedTask;\n",
    "    }"
   ]
  },
  {
   "cell_type": "markdown",
   "id": "673f57f7",
   "metadata": {},
   "source": [
    "This works for small number of tasks, for more see https://devblogs.microsoft.com/pfxteam/processing-tasks-as-they-complete/\n",
    "since it creates N^2 algorithm for no reason."
   ]
  },
  {
   "cell_type": "markdown",
   "id": "8c3186b9",
   "metadata": {},
   "source": [
    "# exceptions for tasks\n",
    "\n",
    "Tasks that throws is called faulted.\n",
    "Tasks hold exceptions thrown in Task.Exception property as System.AggregateException.\n",
    "Exception is thrown when task is awaited on and first exception from AggregateException.InnerExceptions is thrown.\n",
    "\n",
    "Task logic: \n",
    "```\n",
    "await Task.WhenAll(eggsTask, baconTask, toastTask);\n",
    "Task finishedTask = await Task.WhenAny(breakfastTasks);\n",
    "```\n"
   ]
  },
  {
   "cell_type": "markdown",
   "id": "53b02146",
   "metadata": {},
   "source": [
    "# Atrybuty\n",
    "Atrybuty moga byc dodawane w runtime za pomoca refleksji. Konwencja: nazwy atrybutów kończą się zawsze na Attribute,\n"
   ]
  },
  {
   "cell_type": "code",
   "execution_count": null,
   "id": "abd7923d",
   "metadata": {},
   "outputs": [],
   "source": [
    "// przyklad uzycia atrybutow dla parametru\n",
    "void MethodA([In][Out] ref double x) { }\n",
    "void MethodB([Out][In] ref double x) { }\n",
    "void MethodC([In, Out] ref double x) { }"
   ]
  },
  {
   "cell_type": "markdown",
   "id": "c142dc3d",
   "metadata": {},
   "source": [
    "Attribute target: target to entity ktore atrybut aplikuje sie do.\n",
    "Aby jawnie okreslic cel atrybutu nalezy uzyc skladni"
   ]
  },
  {
   "cell_type": "code",
   "execution_count": null,
   "id": "72ee31db",
   "metadata": {},
   "outputs": [],
   "source": [
    "[target : attribute-list]"
   ]
  },
  {
   "cell_type": "markdown",
   "id": "20a79d66",
   "metadata": {},
   "source": [
    "Target value\tApplies to\n",
    "\n",
    "assembly\tEntire assembly\n",
    "\n",
    "module\tCurrent assembly module\n",
    "\n",
    "field\tField in a class or a struct\n",
    "\n",
    "event\tEvent\n",
    "\n",
    "method\tMethod or get and set property accessors\n",
    "\n",
    "param\tMethod parameters or set property accessor parameters\n",
    "\n",
    "property\tProperty\n",
    "\n",
    "return\tReturn value of a method, property indexer, or get property accessor\n",
    "\n",
    "type\tStruct, class, interface, enum, or delegate"
   ]
  },
  {
   "cell_type": "code",
   "execution_count": null,
   "id": "ddca8781",
   "metadata": {},
   "outputs": [],
   "source": [
    "// default: applies to method\n",
    "[ValidatedContract]\n",
    "int Method1() { return 0; }\n",
    "\n",
    "// applies to method\n",
    "[method: ValidatedContract]\n",
    "int Method2() { return 0; }\n",
    "\n",
    "// applies to parameter\n",
    "int Method3([ValidatedContract] string contract) { return 0; }\n",
    "\n",
    "// applies to return value\n",
    "[return: ValidatedContract]\n",
    "int Method4() { return 0; }"
   ]
  },
  {
   "cell_type": "markdown",
   "id": "324ae4a5",
   "metadata": {},
   "source": [
    "Popularne użycia atrybutów:\n",
    "Marshalling interopów \n",
    "Określanie właściwosci COM (Component Object Model)\n",
    "Dll importy\n",
    "Okreslanie pol do serializacji\n",
    "\n",
    "Definiowanie wlasnego atrybutu z refleksja do jego odczytania:"
   ]
  },
  {
   "cell_type": "code",
   "execution_count": null,
   "id": "9e65b194",
   "metadata": {},
   "outputs": [],
   "source": [
    "// Multiuse attribute.  \n",
    "[System.AttributeUsage(System.AttributeTargets.Class |  \n",
    "                       System.AttributeTargets.Struct,  \n",
    "                       AllowMultiple = true)  // Multiuse attribute.  \n",
    "]  \n",
    "public class Author : System.Attribute  \n",
    "{  \n",
    "    string name;  \n",
    "    public double version;  \n",
    "  \n",
    "    public Author(string name)  \n",
    "    {  \n",
    "        this.name = name;  \n",
    "  \n",
    "        // Default value.  \n",
    "        version = 1.0;  \n",
    "    }  \n",
    "  \n",
    "    public string GetName()  \n",
    "    {  \n",
    "        return name;  \n",
    "    }  \n",
    "}  \n",
    "  \n",
    "// Class with the Author attribute.  \n",
    "[Author(\"P. Ackerman\")]  \n",
    "public class FirstClass  \n",
    "{  \n",
    "    // ...  \n",
    "}  \n",
    "  \n",
    "// Class without the Author attribute.  \n",
    "public class SecondClass  \n",
    "{  \n",
    "    // ...  \n",
    "}  \n",
    "  \n",
    "// Class with multiple Author attributes.  \n",
    "[Author(\"P. Ackerman\"), Author(\"R. Koch\", version = 2.0)]  \n",
    "public class ThirdClass  \n",
    "{  \n",
    "    // ...  \n",
    "}  \n",
    "  \n",
    "class TestAuthorAttribute  \n",
    "{  \n",
    "    static void Test()  \n",
    "    {  \n",
    "        PrintAuthorInfo(typeof(FirstClass));  \n",
    "        PrintAuthorInfo(typeof(SecondClass));  \n",
    "        PrintAuthorInfo(typeof(ThirdClass));  \n",
    "    }  \n",
    "  \n",
    "    private static void PrintAuthorInfo(System.Type t)  \n",
    "    {  \n",
    "        System.Console.WriteLine(\"Author information for {0}\", t);  \n",
    "  \n",
    "        // Using reflection.  \n",
    "        System.Attribute[] attrs = System.Attribute.GetCustomAttributes(t);  // Reflection.  \n",
    "  \n",
    "        // Displaying output.  \n",
    "        foreach (System.Attribute attr in attrs)  \n",
    "        {  \n",
    "            if (attr is Author)  \n",
    "            {  \n",
    "                Author a = (Author)attr;  \n",
    "                System.Console.WriteLine(\"   {0}, version {1:f}\", a.GetName(), a.version);  \n",
    "            }  \n",
    "        }  \n",
    "    }  \n",
    "}  \n",
    "/* Output:  \n",
    "    Author information for FirstClass  \n",
    "       P. Ackerman, version 1.00  \n",
    "    Author information for SecondClass  \n",
    "    Author information for ThirdClass  \n",
    "       R. Koch, version 2.00  \n",
    "       P. Ackerman, version 1.00  \n",
    "*/"
   ]
  },
  {
   "cell_type": "markdown",
   "id": "32ed9bd0",
   "metadata": {},
   "source": [
    "### collections\n",
    "Są dwa generalne podejscia uzycie arraya lub kolekcji.\n",
    "Arraya uzywamy gdy mamy do cyznienia ze stała ilością mocno typowanych obiektów.\n",
    "\n",
    "Kolekcje sa bardziej elastyczne potrafia zmieniac swoj rozmiar dynamicznie. Dla kolekcji obiektow o jednym typie uzywamy System.Collections.Generic.\n",
    "\n",
    "Do System.Collection.Generic zaliczamy \n",
    "- Dictionary<TKey, TValue>- key value pairs \n",
    "- List<T>- no lista no\n",
    "- Queue<T>- FIFO(first in first out)\n",
    "- SortedList<TKey, TValue>- kolekcja par key/value posegregowana wedlug implementacji IComparer<T>\n",
    "- Stack<T>- last in first out (LIFO) \n",
    "\n",
    "System.Collections.Concurent classes- klasy dające watkowe bezpieczne kolekcje.  \n",
    "Przykladowymi sa:\n",
    "- BlockingCollection<T>,\n",
    "- ConcurrentDictionary<TK,TV>, \n",
    "- ConcurrentStack<T>\n",
    "\n",
    "System.Collections classes- kolekcje nie przechowujące typowanych obiektów- obiekty w nich są traktowane jako Object.\n",
    "- ArrayList reprezentuje arraya ktorego wielkosc jest dynamicznie zwiekszana w razie potrzeby\n",
    "- Hasktable reprezentuje kolekcje key/value ktora jest segregowana wedlug kodu hash klucza zmienne przechowywane są w bucketach\n",
    "- Queue FIFO\n",
    "- stack LIFO\n",
    "\n",
    "Jezeli obiekt implementuje ICompare mozna jego liste segregowac."
   ]
  },
  {
   "cell_type": "markdown",
   "id": "7cacfda7",
   "metadata": {},
   "source": [
    "Tworzenie wlasnej kolekcji zachodzi przez imlementacje IEnumerable. Wymaga to zaipmlementowania enumeratora i metody GetEnumerator w klasie koleksji. Enumerator ma current i move next do iteracji\n",
    "\n",
    "### Iteratory\n",
    "Iterator sluzy do customowego chodzenia po kolekcji. Zwraca on przez yield return kolejne elementy.\n",
    "Uzywajac slowa kluczowego yield okreslamy ze metoda, operator lub accessor get jest iteratorem."
   ]
  },
  {
   "cell_type": "code",
   "execution_count": 9,
   "id": "c1909fd7",
   "metadata": {},
   "outputs": [
    {
     "name": "stdout",
     "output_type": "stream",
     "text": [
      "3 5 8 "
     ]
    },
    {
     "ename": "Unhandled exception",
     "evalue": "System.InvalidOperationException: Cannot read keys when either application does not have a console or when console input has been redirected. Try Console.Read.\r\n   at System.ConsolePal.ReadKey(Boolean intercept)\r\n   at System.Console.ReadKey()\r\n   at Submission#11.<<Initialize>>d__0.MoveNext()\r\n--- End of stack trace from previous location ---\r\n   at Microsoft.CodeAnalysis.Scripting.ScriptExecutionState.RunSubmissionsAsync[TResult](ImmutableArray`1 precedingExecutors, Func`2 currentExecutor, StrongBox`1 exceptionHolderOpt, Func`2 catchExceptionOpt, CancellationToken cancellationToken)",
     "output_type": "error",
     "traceback": [
      "System.InvalidOperationException: Cannot read keys when either application does not have a console or when console input has been redirected. Try Console.Read.\r\n   at System.ConsolePal.ReadKey(Boolean intercept)\r\n   at System.Console.ReadKey()\r\n   at Submission#11.<<Initialize>>d__0.MoveNext()\r\n--- End of stack trace from previous location ---\r\n   at Microsoft.CodeAnalysis.Scripting.ScriptExecutionState.RunSubmissionsAsync[TResult](ImmutableArray`1 precedingExecutors, Func`2 currentExecutor, StrongBox`1 exceptionHolderOpt, Func`2 catchExceptionOpt, CancellationToken cancellationToken)",
      "   at System.ConsolePal.ReadKey(Boolean intercept)",
      "   at System.Console.ReadKey()",
      "   at Submission#11.<<Initialize>>d__0.MoveNext()",
      "--- End of stack trace from previous location ---",
      "   at Microsoft.CodeAnalysis.Scripting.ScriptExecutionState.RunSubmissionsAsync[TResult](ImmutableArray`1 precedingExecutors, Func`2 currentExecutor, StrongBox`1 exceptionHolderOpt, Func`2 catchExceptionOpt, CancellationToken cancellationToken)"
     ]
    }
   ],
   "source": [
    "static void Main()\n",
    "{\n",
    "    foreach (int number in SomeNumbers())\n",
    "    {\n",
    "        Console.Write(number.ToString() + \" \");\n",
    "    }\n",
    "    // Output: 3 5 8\n",
    "    Console.ReadKey();\n",
    "}\n",
    "\n",
    "public static System.Collections.IEnumerable SomeNumbers()\n",
    "{\n",
    "    yield return 3;\n",
    "    yield return 5;\n",
    "    yield return 8;\n",
    "}"
   ]
  },
  {
   "cell_type": "markdown",
   "id": "002ab8d1",
   "metadata": {},
   "source": [
    "# Covariance i Contrvariance\n",
    "Covariance in(contrvariance)-parametr moze uzyc bardziej derived klasy, out(covariance)-returnowac moze baedziej derived klase.\n",
    "Stack thread: https://stackoverflow.com/questions/3445631/still-confused-about-covariance-and-contravariance-in-out\n",
    "\n",
    "Uwaga kowariancja dziala tylko dla typów referencyjnych"
   ]
  },
  {
   "cell_type": "code",
   "execution_count": null,
   "id": "56a80a2a",
   "metadata": {},
   "outputs": [],
   "source": [
    "// The interface is covariant.\n",
    "ICovariant<Button> ibutton = new SampleImplementation<Button>();\n",
    "ICovariant<Object> iobj = ibutton;\n",
    "\n",
    "// The class is invariant.\n",
    "SampleImplementation<Button> button = new SampleImplementation<Button>();\n",
    "// The following statement generates a compiler error\n",
    "// because classes are invariant.\n",
    "// SampleImplementation<Object> obj = button;"
   ]
  },
  {
   "cell_type": "markdown",
   "id": "01413776",
   "metadata": {},
   "source": [
    "Dla kolekcji jest to przydatne na pryzkład w wypadku porównania: tworzymy wlasny comparer\n",
    " IEnumerable<Employee> noduplicates =  \n",
    "            employees.Distinct<Employee>(new PersonComparer());  <-- uwaga w parametrze do distinct da sie podawac\n"
   ]
  },
  {
   "cell_type": "markdown",
   "id": "8799a947",
   "metadata": {},
   "source": [
    "Strong and weak typing:\n",
    "weak typing no strong definition strongly typed lang can be dynamically typed!\n",
    "! Note that in dynamically typed languages, values have types, not variables. Type inference: statyczne typowanie ktore domysla sie kompilator jak w Haskellu"
   ]
  },
  {
   "cell_type": "markdown",
   "id": "0e7dc91d",
   "metadata": {},
   "source": [
    "### Expression trees\n",
    "expression tree to tree like data structure gdize kazdy node reprezenture ekspresje typu operacja binarna lub wywolanie funkcji\n",
    "\n",
    "Expression trees are also used in the dynamic language runtime (DLR) to provide interoperability between dynamic languages and .NET and to enable compiler writers to emit expression trees instead of Microsoft intermediate language (MSIL)\n",
    "\n",
    "Drzewa ekspresji da sie wytwarzac z linqa lub recznie przez System.Linq.Expressions\n",
    "Ekspresje można tworzyć z jednolinijkowych(tylko) lambd:"
   ]
  },
  {
   "cell_type": "code",
   "execution_count": null,
   "id": "37b6bce9",
   "metadata": {},
   "outputs": [],
   "source": [
    "Expression<Func<int, bool>> lambda = num => num < 5;  "
   ]
  },
  {
   "cell_type": "markdown",
   "id": "0fc2aeb8",
   "metadata": {},
   "source": [
    "Ekspresji używa się do Querying based on runtime state. Przykładem tego jest po prostu uzywanie IQueryable tak jak normlanie zapytania na bazie.\n",
    "IQueryable ma dwa komponenty:\n",
    "- Expression - a language- and datasource-agnostic representation of the current query's components, in the form of an expression tree.\n",
    "- Provider - instancja providera LINQ który zna zasady materializacji query w wartości\n",
    "\n",
    "Expression  trees mozna renderowac przy pomocy DebugView(todo zroobic program z tym)\n",
    "\n",
    "\n",
    "Expression trees offer a way to inspect some piece of code before it is actually compiled, at runtime.\n",
    "\n",
    "### Expressions vs delegates vs anomylous functions:\n",
    "https://stackoverflow.com/questions/17709006/anonymous-methods-vs-lambda-expression\n",
    "W przypadku gdyfunkcja spodziewa sie delegatu lambda jest skrótem do delegate{ ... }, jednak w przypadku Expressions<>\n",
    "lambda jest przebudowywana w expression tree w celu pozniejszej optymalizacji.\n",
    "Delegat daje tylkko metode do zbudowania, expression daje informacje co sie dzieje w srodku do czego np linq moze sie podpiac i optymalizowac na SQL.\n",
    "\n",
    "\n",
    "### examples:\n",
    "Few are the scenario's where you can use expression tree.\n",
    "\n",
    "1) Dynamic Rule Engine - Rather than hard-coding the rule logic in your code. You can build your business-rule logic at run-time.\n",
    "\n",
    "2) Dynamic Linq Queries - There are various scenario where developer need to write hard-coded queries. So you can eliminate this using expression tree."
   ]
  },
  {
   "cell_type": "markdown",
   "id": "23f435a8",
   "metadata": {},
   "source": [
    "## LINQ\n",
    "\n",
    "Query expressions can be compiled to expression trees or to delegates, depending on the type that the query is applied to. IEnumerable<T> queries are compiled to delegates. IQueryable and IQueryable<T> queries are compiled to expression trees. For more information, see Expression trees.\n",
    "\n",
    "Kiedy fluent exppression  typu lsit.Select a kiedy query expressino typu from list select .. ??\n",
    "gdy robimy lety i joiny! se stacka O:\n",
    "Neither is better: they serve different needs. Query syntax comes into its own when you want to leverage multiple range variables. This happens in three situations\n",
    "- When using the let keyword\n",
    "- When you have multiple generators (from clauses)\n",
    "- When doing joins\n",
    "\n",
    "W przypadku uzywania ArrayList trzeba podac typ!\n",
    "### Linq grouping"
   ]
  },
  {
   "cell_type": "code",
   "execution_count": null,
   "id": "40e1d836",
   "metadata": {},
   "outputs": [],
   "source": [
    "// custQuery is an IEnumerable<IGrouping<string, Customer>>\n",
    "var custQuery =\n",
    "    from cust in customers\n",
    "    group cust by cust.City into custGroup\n",
    "    where custGroup.Count() > 2\n",
    "    orderby custGroup.Key\n",
    "    select custGroup;"
   ]
  },
  {
   "cell_type": "markdown",
   "id": "fd9516ea",
   "metadata": {},
   "source": [
    "There are three separate ADO.NET (polaczenie odb z baza) Language-Integrated Query (LINQ) technologies: LINQ to DataSet, LINQ to SQL, and LINQ to Entities. LINQ to DataSet provides richer, optimized querying over the DataSet, LINQ to SQL enables you to directly query SQL Server database schemas, and LINQ to Entities allows you to query an Entity Data Model."
   ]
  },
  {
   "cell_type": "markdown",
   "id": "895ea57a",
   "metadata": {},
   "source": [
    "## assemblies\n",
    "assembly to podstawoowa jednostka organizacyjna w .necie. asseembly sa implementowany jako .exe albo .dll\n",
    "\n",
    "Kazdy komputer ktory ma CLR posiada Global Assembly Cache ktory przetrzymuje assemblies miedzy aplikacjami. Normalnie utrzymujemy assemlbies osobno\n",
    "i wyszukujemy po lokalnym directory, niekioedy jednak mozemy odwolywac sie do <-- chyba tylko dotnet framework>\n",
    "\n",
    "Assemblies can be static or dynamic. Static assemblies are stored on disk in portable executable (PE) files. Static assemblies can include interfaces, classes, and resources like bitmaps, JPEG files, and other resource files. You can also create dynamic assemblies, which are run directly from memory and aren't saved to disk before execution. You can save dynamic assemblies to disk after they have executed."
   ]
  },
  {
   "cell_type": "markdown",
   "id": "b63793d7",
   "metadata": {},
   "source": [
    "## Serialization\n",
    "Json serialization noormalna serializacja mozna przy pomocy atrybutow i opcji zmieniac zachowanie.\n",
    "Binarna serializacja- do kodu binarnego super szxbyka, niebezpieczna.\n"
   ]
  },
  {
   "cell_type": "markdown",
   "id": "660e42a7",
   "metadata": {},
   "source": [
    "# Statements expressions and operators\n",
    "typy statementów:\n",
    "normalne: wybor z ifami, ekspresje, deklarace, lapanie wyjatkow, jump -break goto continue, iteracyjne,\n",
    "Ciekawe:\n",
    "- checked- normalnie kompilator wykryje overflow gdy dodamy dwie stale liczby, ale w przypadku gdy dodamy zmienna nie wykryje tego, uzywamy wtedy checked(duzaliczba+liczbaPowodujacaOverflow). Checked moze tez byc w blocku{}. Unchecked powoduje nie sprawdzanie przy dodawaniuliczb czy overflow.\n",
    "- yield return - gdy iterator do tego dojdzie zwraca co tam jest, ale 'miejsce' w kodzie jest zapamietywane i egzekucja jest od neigo wznawiana.\n",
    "Yield break przerywa iteracje.\n",
    "- fixed- zapobiega GC relokacje zmiennej. Mozliwe tylkow  unsafe. N a przyklad robimy se zmienna refer i uzywamy wskaznika do niej. Fixed zabezpiieczy zeby wskaznik na nia wskazywal cnie\n",
    "- label dla goto\n",
    "- empty statement- przydatne! po prostu  mozna dac ; \n",
    "- lock- blokuje dostęp do kodu tlyko jednemu wątkowi jednocześnie"
   ]
  },
  {
   "cell_type": "code",
   "execution_count": null,
   "id": "9bfa600a",
   "metadata": {},
   "outputs": [],
   "source": [
    "//empty statement\n",
    "void ProcessMessages()\n",
    "{\n",
    "    while (ProcessMessage())\n",
    "        ; // Statement needed here.\n",
    "}\n",
    "\n",
    "\n",
    "//lock\n",
    "\n",
    "lock (x)\n",
    "{\n",
    "    // Your code...\n",
    "}\n",
    "\n",
    "//wychodzi to samo co tutaj\n",
    "\n",
    "object __lockObj = x;\n",
    "bool __lockWasTaken = false;\n",
    "try\n",
    "{\n",
    "    System.Threading.Monitor.Enter(__lockObj, ref __lockWasTaken);\n",
    "    // Your code...\n",
    "}\n",
    "finally\n",
    "{\n",
    "    if (__lockWasTaken) System.Threading.Monitor.Exit(__lockObj);\n",
    "}"
   ]
  },
  {
   "cell_type": "markdown",
   "id": "c4ff7bd2",
   "metadata": {},
   "source": [
    "### Reference i value equality\n",
    "\n",
    "reference equality sprawdzamy System.Object.ReferenceEquals(a,b) i sprawdza to czy referujemy sie do tej samej zmiennej.\n"
   ]
  },
  {
   "cell_type": "code",
   "execution_count": null,
   "id": "d424aef8",
   "metadata": {},
   "outputs": [],
   "source": [
    "  bool areEqual = System.Object.ReferenceEquals(a, b);\n",
    "        // False:"
   ]
  },
  {
   "cell_type": "markdown",
   "id": "96d8ce65",
   "metadata": {},
   "source": [
    "Value equality dziala dla typow ze zdefiniowana metoda Equals i sprawdza wartosc typu. dl atypow prymitywnych jest to pproste dla klas trzeba samemu zdefiniowac interppretacje danych. Uwaga przy definiowaniu Equals powinno sie zeimplementowac je wedlug zasad matematycznych rownosci. Warto rowniez pobawid sie z gethashcode aby te same obiekty mialy taki sam hash! Uwaga reference equals nie powinno byc uzywane do stringow!\n",
    "\n",
    "Uwaga od c#9 mozna dostac latwe porownanie za free przez recordy !"
   ]
  },
  {
   "cell_type": "markdown",
   "id": "780587f0",
   "metadata": {},
   "source": [
    "## Cast\n",
    "Castowanie zachodzi w 4 sposoy:\n",
    "- implicit\n",
    "- explicit przy pomocy (typ)zmienna\n",
    "- User definied \n",
    "- przy pomocy klas helper "
   ]
  },
  {
   "cell_type": "code",
   "execution_count": null,
   "id": "78fa4791",
   "metadata": {},
   "outputs": [],
   "source": [
    "//wlasna definicja casta\n",
    "public readonly struct Digit\n",
    "{\n",
    "    private readonly byte digit;\n",
    "    public static implicit operator byte(Digit d) => d.digit;\n",
    "    public static explicit operator Digit(byte b) => new Digit(b);\n",
    "}"
   ]
  },
  {
   "cell_type": "markdown",
   "id": "890640ca",
   "metadata": {},
   "source": [
    "Is operator:\n",
    "Is testuje eskpresje czy jest danego typu, a od C#7 rowniez czy podaza za wzorem jak w haskellu. Uwaga nie dziala do lambd!"
   ]
  }
 ],
 "metadata": {
  "kernelspec": {
   "display_name": ".NET (C#)",
   "language": "C#",
   "name": ".net-csharp"
  },
  "language_info": {
   "file_extension": ".cs",
   "mimetype": "text/x-csharp",
   "name": "C#",
   "pygments_lexer": "csharp",
   "version": "9.0"
  }
 },
 "nbformat": 4,
 "nbformat_minor": 5
}
