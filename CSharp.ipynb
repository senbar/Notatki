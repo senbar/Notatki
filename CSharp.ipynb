{
 "cells": [
  {
   "cell_type": "markdown",
   "id": "8da7ed76",
   "metadata": {},
   "source": [
    "## Async programming\n",
    "Task asynchronous programming model(TAP).\n",
    "Task await doesnt block thread.\n",
    "if any part of code is async entire code block is async- tells compiler that some threads will be released when await. \n",
    "\n",
    "In depth: https://docs.microsoft.com/en-us/dotnet/standard/async-in-depth\n",
    "\n",
    "Important!\n",
    "when task is I/O bound use async await in standard form: if I/O-bound task is run no thread is dedicated to running the task.\n",
    "Most of the time application hands off work to other system lib that takes time. thats why servers should use async- it frees \n",
    "server pool when I/O task is being done. IT should be done like that is asp net too:\n",
    "https://stackoverflow.com/questions/41953102/using-async-await-or-task-in-web-api-controller-net-core"
   ]
  },
  {
   "cell_type": "code",
   "execution_count": null,
   "id": "692d6fde",
   "metadata": {
    "scrolled": true
   },
   "outputs": [],
   "source": [
    "//this starts task \n",
    "private bool CalculateDamageDone()\n",
    "{\n",
    "    // Code omitted:\n",
    "    //\n",
    "    // Does an expensive calculation and returns\n",
    "    // the result of that calculation.\n",
    "    return true;\n",
    "}\n",
    "\n",
    "var task  = async (o, e) =>\n",
    "{\n",
    "    // This line will yield control to the UI while CalculateDamageDone()\n",
    "    // performs its work. The UI thread is free to perform other work.\n",
    "    var damageResult = await Task.Run(() => CalculateDamageDone());\n",
    "    // DisplayDamage(damageResult);\n",
    "};"
   ]
  },
  {
   "cell_type": "markdown",
   "id": "6e68adc1",
   "metadata": {},
   "source": [
    "This is because it spawns another thread. Keep in mind this does not offer any extra protection for shared data.\n",
    "You should use Task.Run, but not within any code you want to be reusable (i.e., library code). So you use Task.Run to call the method, not as part of the implementation of the method.\n",
    "Async void should only be used for event handlers. On ui exceptions are thrown onto dispatcher. Normaly they cant be awaited on\n",
    "and exception crashes app.\n",
    "Tread carefully when using async lambdas in LINQ expressions\n",
    "\n",
    "returning reference type may impact performance. Consider using ValueTask from c#7.0. You may define your own return type with gGetAwaiter method to return task.\n",
    "IAsyncEnumerable works for async methods that return streams from C#8.0\n",
    "\n",
    "### Cancelling tasks\n",
    "\n",
    "W celu przerywania taskow uzywa sie CancellationTokenSource. Podaje sie taki obiekt w parametrze do kazdeego taska.\n",
    "\n",
    "### Obslugiwanie taskow w miare ich ukonczenia\n",
    "metoda ta jest zlozona obliczeniowa w przypadku duzej ilosci taskow powinno sie uzywac metod opisanych w linku ponizej"
   ]
  },
  {
   "cell_type": "code",
   "execution_count": null,
   "id": "21601227",
   "metadata": {},
   "outputs": [],
   "source": [
    "\n",
    "\n",
    "while (downloadTasks.Any())\n",
    "    {\n",
    "        Task<int> finishedTask = await Task.WhenAny(downloadTasks);\n",
    "        downloadTasks.Remove(finishedTask);\n",
    "        total += await finishedTask;\n",
    "    }"
   ]
  },
  {
   "cell_type": "markdown",
   "id": "673f57f7",
   "metadata": {},
   "source": [
    "This works for small number of tasks, for more see https://devblogs.microsoft.com/pfxteam/processing-tasks-as-they-complete/\n",
    "since it creates N^2 algorithm for no reason."
   ]
  },
  {
   "cell_type": "markdown",
   "id": "8c3186b9",
   "metadata": {},
   "source": [
    "# exceptions for tasks\n",
    "\n",
    "Tasks that throws is called faulted.\n",
    "Tasks hold exceptions thrown in Task.Exception property as System.AggregateException.\n",
    "Exception is thrown when task is awaited on and first exception from AggregateException.InnerExceptions is thrown.\n",
    "\n",
    "Task logic: \n",
    "```\n",
    "await Task.WhenAll(eggsTask, baconTask, toastTask);\n",
    "Task finishedTask = await Task.WhenAny(breakfastTasks);\n",
    "```\n"
   ]
  },
  {
   "cell_type": "markdown",
   "id": "53b02146",
   "metadata": {},
   "source": [
    "# Atrybuty\n",
    "Atrybuty moga byc dodawane w runtime za pomoca refleksji. Konwencja: nazwy atrybutów kończą się zawsze na Attribute,\n"
   ]
  },
  {
   "cell_type": "code",
   "execution_count": null,
   "id": "abd7923d",
   "metadata": {},
   "outputs": [],
   "source": [
    "// przyklad uzycia atrybutow dla parametru\n",
    "void MethodA([In][Out] ref double x) { }\n",
    "void MethodB([Out][In] ref double x) { }\n",
    "void MethodC([In, Out] ref double x) { }"
   ]
  },
  {
   "cell_type": "markdown",
   "id": "c142dc3d",
   "metadata": {},
   "source": [
    "Attribute target: target to entity ktore atrybut aplikuje sie do.\n",
    "Aby jawnie okreslic cel atrybutu nalezy uzyc skladni"
   ]
  },
  {
   "cell_type": "code",
   "execution_count": null,
   "id": "72ee31db",
   "metadata": {},
   "outputs": [],
   "source": [
    "[target : attribute-list]"
   ]
  },
  {
   "cell_type": "markdown",
   "id": "20a79d66",
   "metadata": {},
   "source": [
    "Target value\tApplies to\n",
    "\n",
    "assembly\tEntire assembly\n",
    "\n",
    "module\tCurrent assembly module\n",
    "\n",
    "field\tField in a class or a struct\n",
    "\n",
    "event\tEvent\n",
    "\n",
    "method\tMethod or get and set property accessors\n",
    "\n",
    "param\tMethod parameters or set property accessor parameters\n",
    "\n",
    "property\tProperty\n",
    "\n",
    "return\tReturn value of a method, property indexer, or get property accessor\n",
    "\n",
    "type\tStruct, class, interface, enum, or delegate"
   ]
  },
  {
   "cell_type": "code",
   "execution_count": null,
   "id": "ddca8781",
   "metadata": {},
   "outputs": [],
   "source": [
    "// default: applies to method\n",
    "[ValidatedContract]\n",
    "int Method1() { return 0; }\n",
    "\n",
    "// applies to method\n",
    "[method: ValidatedContract]\n",
    "int Method2() { return 0; }\n",
    "\n",
    "// applies to parameter\n",
    "int Method3([ValidatedContract] string contract) { return 0; }\n",
    "\n",
    "// applies to return value\n",
    "[return: ValidatedContract]\n",
    "int Method4() { return 0; }"
   ]
  },
  {
   "cell_type": "markdown",
   "id": "324ae4a5",
   "metadata": {},
   "source": [
    "Popularne użycia atrybutów:\n",
    "- Marshalling interopów \n",
    "- Określanie właściwosci COM (Component Object Model- windowsowy stuff)\n",
    "- Dll importy\n",
    "- Okreslanie pol do serializacji\n",
    "\n",
    "Definiowanie wlasnego atrybutu z refleksja do jego odczytania:"
   ]
  },
  {
   "cell_type": "code",
   "execution_count": null,
   "id": "9e65b194",
   "metadata": {},
   "outputs": [],
   "source": [
    "// Multiuse attribute.  \n",
    "[System.AttributeUsage(System.AttributeTargets.Class |  \n",
    "                       System.AttributeTargets.Struct,  \n",
    "                       AllowMultiple = true)  // Multiuse attribute.  \n",
    "]  \n",
    "public class Author : System.Attribute  \n",
    "{  \n",
    "    string name;  \n",
    "    public double version;  \n",
    "  \n",
    "    public Author(string name)  \n",
    "    {  \n",
    "        this.name = name;  \n",
    "  \n",
    "        // Default value.  \n",
    "        version = 1.0;  \n",
    "    }  \n",
    "  \n",
    "    public string GetName()  \n",
    "    {  \n",
    "        return name;  \n",
    "    }  \n",
    "}  \n",
    "  \n",
    "// Class with the Author attribute.  \n",
    "[Author(\"P. Ackerman\")]  \n",
    "public class FirstClass  \n",
    "{  \n",
    "    // ...  \n",
    "}  \n",
    "  \n",
    "// Class without the Author attribute.  \n",
    "public class SecondClass  \n",
    "{  \n",
    "    // ...  \n",
    "}  \n",
    "  \n",
    "// Class with multiple Author attributes.  \n",
    "[Author(\"P. Ackerman\"), Author(\"R. Koch\", version = 2.0)]  \n",
    "public class ThirdClass  \n",
    "{  \n",
    "    // ...  \n",
    "}  \n",
    "  \n",
    "class TestAuthorAttribute  \n",
    "{  \n",
    "    static void Test()  \n",
    "    {  \n",
    "        PrintAuthorInfo(typeof(FirstClass));  \n",
    "        PrintAuthorInfo(typeof(SecondClass));  \n",
    "        PrintAuthorInfo(typeof(ThirdClass));  \n",
    "    }  \n",
    "  \n",
    "    private static void PrintAuthorInfo(System.Type t)  \n",
    "    {  \n",
    "        System.Console.WriteLine(\"Author information for {0}\", t);  \n",
    "  \n",
    "        // Using reflection.  \n",
    "        System.Attribute[] attrs = System.Attribute.GetCustomAttributes(t);  // Reflection.  \n",
    "  \n",
    "        // Displaying output.  \n",
    "        foreach (System.Attribute attr in attrs)  \n",
    "        {  \n",
    "            if (attr is Author)  \n",
    "            {  \n",
    "                Author a = (Author)attr;  \n",
    "                System.Console.WriteLine(\"   {0}, version {1:f}\", a.GetName(), a.version);  \n",
    "            }  \n",
    "        }  \n",
    "    }  \n",
    "}  \n",
    "/* Output:  \n",
    "    Author information for FirstClass  \n",
    "       P. Ackerman, version 1.00  \n",
    "    Author information for SecondClass  \n",
    "    Author information for ThirdClass  \n",
    "       R. Koch, version 2.00  \n",
    "       P. Ackerman, version 1.00  \n",
    "*/"
   ]
  },
  {
   "cell_type": "markdown",
   "id": "32ed9bd0",
   "metadata": {},
   "source": [
    "### Collections\n",
    "Są dwa generalne podejscia uzycie arraya lub kolekcji.\n",
    "Arraya uzywamy gdy mamy do cyznienia ze stała ilością mocno typowanych obiektów.\n",
    "\n",
    "Kolekcje sa bardziej elastyczne potrafia zmieniac swoj rozmiar dynamicznie. Dla kolekcji obiektow o jednym typie uzywamy System.Collections.Generic.\n",
    "\n",
    "Do System.Collection.Generic zaliczamy \n",
    "- Dictionary<TKey, TValue>- key value pairs \n",
    "- List<T>- no lista no\n",
    "- Queue<T>- FIFO(first in first out)\n",
    "- SortedList<TKey, TValue>- kolekcja par key/value posegregowana wedlug implementacji IComparer<T>\n",
    "- Stack<T>- last in first out (LIFO) \n",
    "\n",
    "System.Collections.Concurent classes- klasy dające watkowe bezpieczne kolekcje.  \n",
    "Przykladowymi sa:\n",
    "- BlockingCollection<T>,\n",
    "- ConcurrentDictionary<TK,TV>, \n",
    "- ConcurrentStack<T>\n",
    "\n",
    "System.Collections classes- kolekcje nie przechowujące typowanych obiektów- obiekty w nich są traktowane jako Object.\n",
    "- ArrayList reprezentuje arraya ktorego wielkosc jest dynamicznie zwiekszana w razie potrzeby\n",
    "- Hashtable reprezentuje kolekcje key/value ktora jest segregowana wedlug kodu hash klucza zmienne przechowywane są w bucketach\n",
    "- Queue FIFO\n",
    "- stack LIFO\n",
    "\n",
    "Jezeli obiekt implementuje ICompare mozna jego liste segregowac."
   ]
  },
  {
   "cell_type": "markdown",
   "id": "7cacfda7",
   "metadata": {},
   "source": [
    "Tworzenie wlasnej kolekcji zachodzi przez imlementacje **IEnumerable**. Wymaga to zaimplementowania enumeratora i metody **GetEnumerator** w klasie koleksji. Enumerator ma current i move next do iteracji\n",
    "\n",
    "### Iteratory\n",
    "Iterator sluzy do customowego chodzenia po kolekcji. Zwraca on przez yield return kolejne elementy.\n",
    "Uzywajac slowa kluczowego yield okreslamy ze metoda, operator lub accessor get jest iteratorem."
   ]
  },
  {
   "cell_type": "code",
   "execution_count": 9,
   "id": "c1909fd7",
   "metadata": {},
   "outputs": [
    {
     "name": "stdout",
     "output_type": "stream",
     "text": [
      "3 5 8 "
     ]
    },
    {
     "ename": "Unhandled exception",
     "evalue": "System.InvalidOperationException: Cannot read keys when either application does not have a console or when console input has been redirected. Try Console.Read.\r\n   at System.ConsolePal.ReadKey(Boolean intercept)\r\n   at System.Console.ReadKey()\r\n   at Submission#11.<<Initialize>>d__0.MoveNext()\r\n--- End of stack trace from previous location ---\r\n   at Microsoft.CodeAnalysis.Scripting.ScriptExecutionState.RunSubmissionsAsync[TResult](ImmutableArray`1 precedingExecutors, Func`2 currentExecutor, StrongBox`1 exceptionHolderOpt, Func`2 catchExceptionOpt, CancellationToken cancellationToken)",
     "output_type": "error",
     "traceback": [
      "System.InvalidOperationException: Cannot read keys when either application does not have a console or when console input has been redirected. Try Console.Read.\r\n   at System.ConsolePal.ReadKey(Boolean intercept)\r\n   at System.Console.ReadKey()\r\n   at Submission#11.<<Initialize>>d__0.MoveNext()\r\n--- End of stack trace from previous location ---\r\n   at Microsoft.CodeAnalysis.Scripting.ScriptExecutionState.RunSubmissionsAsync[TResult](ImmutableArray`1 precedingExecutors, Func`2 currentExecutor, StrongBox`1 exceptionHolderOpt, Func`2 catchExceptionOpt, CancellationToken cancellationToken)",
      "   at System.ConsolePal.ReadKey(Boolean intercept)",
      "   at System.Console.ReadKey()",
      "   at Submission#11.<<Initialize>>d__0.MoveNext()",
      "--- End of stack trace from previous location ---",
      "   at Microsoft.CodeAnalysis.Scripting.ScriptExecutionState.RunSubmissionsAsync[TResult](ImmutableArray`1 precedingExecutors, Func`2 currentExecutor, StrongBox`1 exceptionHolderOpt, Func`2 catchExceptionOpt, CancellationToken cancellationToken)"
     ]
    }
   ],
   "source": [
    "static void Main()\n",
    "{\n",
    "    foreach (int number in SomeNumbers())\n",
    "    {\n",
    "        Console.Write(number.ToString() + \" \");\n",
    "    }\n",
    "    // Output: 3 5 8\n",
    "    Console.ReadKey();\n",
    "}\n",
    "\n",
    "public static System.Collections.IEnumerable SomeNumbers()\n",
    "{\n",
    "    yield return 3;\n",
    "    yield return 5;\n",
    "    yield return 8;\n",
    "}"
   ]
  },
  {
   "cell_type": "markdown",
   "id": "002ab8d1",
   "metadata": {},
   "source": [
    "# Covariance i Contrvariance\n",
    "Covariance in(contrvariance)-parametr moze uzyc bardziej derived klasy, out(covariance)-returnowac moze bardziej derived klase.\n",
    "Stack thread: https://stackoverflow.com/questions/3445631/still-confused-about-covariance-and-contravariance-in-out\n",
    "\n",
    "Uwaga kowariancja dziala tylko dla typów referencyjnych"
   ]
  },
  {
   "cell_type": "code",
   "execution_count": null,
   "id": "56a80a2a",
   "metadata": {},
   "outputs": [],
   "source": [
    "// The interface is covariant.\n",
    "ICovariant<Button> ibutton = new SampleImplementation<Button>();\n",
    "ICovariant<Object> iobj = ibutton;\n",
    "\n",
    "// The class is invariant.\n",
    "SampleImplementation<Button> button = new SampleImplementation<Button>();\n",
    "// The following statement generates a compiler error\n",
    "// because classes are invariant.\n",
    "// SampleImplementation<Object> obj = button;"
   ]
  },
  {
   "cell_type": "markdown",
   "id": "01413776",
   "metadata": {},
   "source": [
    "Dla kolekcji jest to przydatne na pryzkład w wypadku porównania: tworzymy wlasny comparer\n",
    " IEnumerable<Employee> noduplicates =  \n",
    "            employees.Distinct<Employee>(new PersonComparer());  <-- uwaga w parametrze do distinct da sie podawac\n"
   ]
  },
  {
   "cell_type": "markdown",
   "id": "8799a947",
   "metadata": {},
   "source": [
    "Strong and weak typing:\n",
    "weak typing no strong definition strongly typed lang can be dynamically typed!\n",
    "! Note that in dynamically typed languages, values have types, not variables. Type inference: statyczne typowanie ktore domysla sie kompilator jak w Haskellu"
   ]
  },
  {
   "cell_type": "markdown",
   "id": "0e7dc91d",
   "metadata": {},
   "source": [
    "### Expression trees\n",
    "expression tree to tree like data structure gdize kazdy node reprezenture ekspresje typu operacja binarna lub wywolanie funkcji\n",
    "\n",
    "Expression trees are also used in the dynamic language runtime (DLR) to provide interoperability between dynamic languages and .NET and to enable compiler writers to emit expression trees instead of Microsoft intermediate language (MSIL)\n",
    "\n",
    "Drzewa ekspresji da sie wytwarzac z linqa lub recznie przez System.Linq.Expressions\n",
    "Ekspresje można tworzyć z jednolinijkowych(tylko) lambd:"
   ]
  },
  {
   "cell_type": "code",
   "execution_count": null,
   "id": "37b6bce9",
   "metadata": {},
   "outputs": [],
   "source": [
    "Expression<Func<int, bool>> lambda = num => num < 5;  "
   ]
  },
  {
   "cell_type": "markdown",
   "id": "0fc2aeb8",
   "metadata": {},
   "source": [
    "Ekspresji używa się do Querying based on runtime state. Przykładem tego jest po prostu uzywanie IQueryable tak jak normlanie zapytania na bazie.\n",
    "IQueryable ma dwa komponenty:\n",
    "- Expression - a language- and datasource-agnostic representation of the current query's components, in the form of an expression tree.\n",
    "- Provider - instancja providera LINQ który zna zasady materializacji query w wartości\n",
    "\n",
    "Expression  trees mozna renderowac przy pomocy DebugView(todo zroobic program z tym)\n",
    "\n",
    "\n",
    "Expression trees offer a way to inspect some piece of code before it is actually compiled, at runtime.\n",
    "\n",
    "### Expressions vs delegates vs anomylous functions:\n",
    "https://stackoverflow.com/questions/17709006/anonymous-methods-vs-lambda-expression\n",
    "W przypadku gdyfunkcja spodziewa sie delegatu lambda jest skrótem do delegate{ ... }, jednak w przypadku Expressions<>\n",
    "lambda jest przebudowywana w expression tree w celu pozniejszej optymalizacji.\n",
    "Delegat daje tylkko metode do zbudowania, expression daje informacje co sie dzieje w srodku do czego np linq moze sie podpiac i optymalizowac na SQL.\n",
    "\n",
    "\n",
    "### examples:\n",
    "Few are the scenario's where you can use expression tree.\n",
    "\n",
    "1) Dynamic Rule Engine - Rather than hard-coding the rule logic in your code. You can build your business-rule logic at run-time.\n",
    "\n",
    "2) Dynamic Linq Queries - There are various scenario where developer need to write hard-coded queries. So you can eliminate this using expression tree."
   ]
  },
  {
   "cell_type": "markdown",
   "id": "23f435a8",
   "metadata": {},
   "source": [
    "## LINQ\n",
    "\n",
    "Query expressions can be compiled to expression trees or to delegates, depending on the type that the query is applied to. IEnumerable<T> queries are compiled to delegates. IQueryable and IQueryable<T> queries are compiled to expression trees. For more information, see Expression trees.\n",
    "\n",
    "Kiedy fluent exppression  typu lsit.Select a kiedy query expressino typu from list select .. ??\n",
    "gdy robimy lety i joiny! se stacka O:\n",
    "Neither is better: they serve different needs. Query syntax comes into its own when you want to leverage multiple range variables. This happens in three situations\n",
    "- When using the let keyword\n",
    "- When you have multiple generators (from clauses)\n",
    "- When doing joins\n",
    "\n",
    "W przypadku uzywania ArrayList trzeba podac typ!\n",
    "### Linq grouping"
   ]
  },
  {
   "cell_type": "code",
   "execution_count": null,
   "id": "40e1d836",
   "metadata": {},
   "outputs": [],
   "source": [
    "// custQuery is an IEnumerable<IGrouping<string, Customer>>\n",
    "var custQuery =\n",
    "    from cust in customers\n",
    "    group cust by cust.City into custGroup\n",
    "    where custGroup.Count() > 2\n",
    "    orderby custGroup.Key\n",
    "    select custGroup;"
   ]
  },
  {
   "cell_type": "markdown",
   "id": "fd9516ea",
   "metadata": {},
   "source": [
    "There are three separate ADO.NET (polaczenie odb z baza) Language-Integrated Query (LINQ) technologies: LINQ to DataSet, LINQ to SQL, and LINQ to Entities. LINQ to DataSet provides richer, optimized querying over the DataSet, LINQ to SQL enables you to directly query SQL Server database schemas, and LINQ to Entities allows you to query an Entity Data Model."
   ]
  },
  {
   "cell_type": "markdown",
   "id": "895ea57a",
   "metadata": {},
   "source": [
    "## assemblies\n",
    "assembly to podstawoowa jednostka organizacyjna w .necie. asseembly sa implementowany jako .exe albo .dll\n",
    "\n",
    "Kazdy komputer ktory ma CLR posiada Global Assembly Cache ktory przetrzymuje assemblies miedzy aplikacjami. Normalnie utrzymujemy assemlbies osobno\n",
    "i wyszukujemy po lokalnym directory, niekioedy jednak mozemy odwolywac sie do <-- chyba tylko dotnet framework>\n",
    "\n",
    "Assemblies can be static or dynamic. Static assemblies are stored on disk in portable executable (PE) files. Static assemblies can include interfaces, classes, and resources like bitmaps, JPEG files, and other resource files. You can also create dynamic assemblies, which are run directly from memory and aren't saved to disk before execution. You can save dynamic assemblies to disk after they have executed."
   ]
  },
  {
   "cell_type": "markdown",
   "id": "b63793d7",
   "metadata": {},
   "source": [
    "## Serialization\n",
    "Json serialization noormalna serializacja mozna przy pomocy atrybutow i opcji zmieniac zachowanie.\n",
    "Binarna serializacja- do kodu binarnego super szxbyka, niebezpieczna.\n"
   ]
  },
  {
   "cell_type": "markdown",
   "id": "660e42a7",
   "metadata": {},
   "source": [
    "# Statements expressions and operators\n",
    "typy statementów:\n",
    "normalne: wybor z ifami, ekspresje, deklarace, lapanie wyjatkow, jump -break goto continue, iteracyjne,\n",
    "Ciekawe:\n",
    "- checked- normalnie kompilator wykryje overflow gdy dodamy dwie stale liczby, ale w przypadku gdy dodamy zmienna nie wykryje tego, uzywamy wtedy checked(duzaliczba+liczbaPowodujacaOverflow). Checked moze tez byc w blocku{}. Unchecked powoduje nie sprawdzanie przy dodawaniuliczb czy overflow.\n",
    "- yield return - gdy iterator do tego dojdzie zwraca co tam jest, ale 'miejsce' w kodzie jest zapamietywane i egzekucja jest od neigo wznawiana.\n",
    "Yield break przerywa iteracje.\n",
    "- fixed- zapobiega GC relokacje zmiennej. Mozliwe tylkow  unsafe. N a przyklad robimy se zmienna refer i uzywamy wskaznika do niej. Fixed zabezpiieczy zeby wskaznik na nia wskazywal cnie\n",
    "- label dla goto\n",
    "- empty statement- przydatne! po prostu  mozna dac ; \n",
    "- lock- blokuje dostęp do kodu tlyko jednemu wątkowi jednocześnie"
   ]
  },
  {
   "cell_type": "code",
   "execution_count": null,
   "id": "9bfa600a",
   "metadata": {},
   "outputs": [],
   "source": [
    "//empty statement\n",
    "void ProcessMessages()\n",
    "{\n",
    "    while (ProcessMessage())\n",
    "        ; // Statement needed here.\n",
    "}\n",
    "\n",
    "\n",
    "//lock\n",
    "\n",
    "lock (x)\n",
    "{\n",
    "    // Your code...\n",
    "}\n",
    "\n",
    "//wychodzi to samo co tutaj\n",
    "\n",
    "object __lockObj = x;\n",
    "bool __lockWasTaken = false;\n",
    "try\n",
    "{\n",
    "    System.Threading.Monitor.Enter(__lockObj, ref __lockWasTaken);\n",
    "    // Your code...\n",
    "}\n",
    "finally\n",
    "{\n",
    "    if (__lockWasTaken) System.Threading.Monitor.Exit(__lockObj);\n",
    "}"
   ]
  },
  {
   "cell_type": "markdown",
   "id": "c4ff7bd2",
   "metadata": {},
   "source": [
    "### Reference i value equality\n",
    "\n",
    "reference equality sprawdzamy System.Object.ReferenceEquals(a,b) i sprawdza to czy referujemy sie do tej samej zmiennej.\n"
   ]
  },
  {
   "cell_type": "code",
   "execution_count": null,
   "id": "d424aef8",
   "metadata": {},
   "outputs": [],
   "source": [
    "  bool areEqual = System.Object.ReferenceEquals(a, b);\n",
    "        // False:"
   ]
  },
  {
   "cell_type": "markdown",
   "id": "96d8ce65",
   "metadata": {},
   "source": [
    "Value equality dziala dla typow ze zdefiniowana metoda Equals i sprawdza wartosc typu. dl atypow prymitywnych jest to pproste dla klas trzeba samemu zdefiniowac interppretacje danych. Uwaga przy definiowaniu Equals powinno sie zeimplementowac je wedlug zasad matematycznych rownosci. Warto rowniez pobawid sie z gethashcode aby te same obiekty mialy taki sam hash! Uwaga reference equals nie powinno byc uzywane do stringow!\n",
    "\n",
    "Uwaga od c#9 mozna dostac latwe porownanie za free przez recordy !"
   ]
  },
  {
   "cell_type": "markdown",
   "id": "780587f0",
   "metadata": {},
   "source": [
    "## Cast\n",
    "Castowanie zachodzi w 4 sposoy:\n",
    "- implicit\n",
    "- explicit przy pomocy (typ)zmienna\n",
    "- User definied \n",
    "- przy pomocy klas helper "
   ]
  },
  {
   "cell_type": "code",
   "execution_count": null,
   "id": "78fa4791",
   "metadata": {},
   "outputs": [],
   "source": [
    "//wlasna definicja casta\n",
    "public readonly struct Digit\n",
    "{\n",
    "    private readonly byte digit;\n",
    "    public static implicit operator byte(Digit d) => d.digit;\n",
    "    public static explicit operator Digit(byte b) => new Digit(b);\n",
    "}"
   ]
  },
  {
   "cell_type": "markdown",
   "id": "890640ca",
   "metadata": {},
   "source": [
    "**Is** operator:\n",
    "Is testuje eskpresje czy jest danego typu, a od C#7 rowniez czy podaza za wzorem jak w haskellu. Uwaga nie dziala do lambd!"
   ]
  },
  {
   "cell_type": "code",
   "execution_count": null,
   "id": "ca3b1ab7",
   "metadata": {},
   "outputs": [],
   "source": [
    "object b = new Base();\n",
    "        Console.WriteLine(b is Base);  // output: True\n",
    "        Console.WriteLine(b is Derived);  // output: False\n"
   ]
  },
  {
   "cell_type": "markdown",
   "id": "3aa5f421",
   "metadata": {},
   "source": [
    "# Pattern matchning:\n",
    "uwaga zeby uzywac tak jak w haskellu deklarujesz metode i swwitcha od niech w lambdzie\n",
    "rodzaje matchingów:\n",
    "- declaration and typa patterns: cos is string itp \n",
    "- constant type matching: w switcu po prostu 1=> cos, 2=> cos\n",
    "- relational: >= 3 and < 6 => \"spring\",... porównania po prostu\n",
    "- logical od C#9 można używac not and or w tych switchach\n",
    "- property pattern: porownania w propertiesach: static bool IsConferenceDay(DateTime date) => date is { Year: 2020, Month: 5, Day: 19 or 20 or 21 }; - matchuje gdy rok jest taki jak podany miesiac tez i potem dzien jest lub lub. Mozna laczyc z logicznym i relacyjnym\n"
   ]
  },
  {
   "cell_type": "code",
   "execution_count": null,
   "id": "1a44cc96",
   "metadata": {},
   "outputs": [],
   "source": [
    "// declaration/type pattern matching\n",
    "int i = 23;\n",
    "object iBoxed = i;\n",
    "int? jNullable = 7;\n",
    "if (iBoxed is int a && jNullable is int b)\n",
    "{\n",
    "    Console.WriteLine(a + b);  // output 30\n",
    "}\n",
    "\n",
    "//pattern mathcing haskell style switch statement\n",
    "public static decimal CalculateToll(this Vehicle vehicle) => vehicle switch\n",
    "{\n",
    "    Car => 2.00m,\n",
    "    Truck => 7.50m,\n",
    "    null => throw new ArgumentNullException(nameof(vehicle)),\n",
    "    _ => throw new ArgumentException(\"Unknown type of a vehicle\", nameof(vehicle)),\n",
    "};\n",
    "\n",
    "//relational patterns\n",
    "static string Classify(double measurement) => measurement switch\n",
    "{\n",
    "    < -4.0 => \"Too low\",\n",
    "    > 10.0 => \"Too high\",\n",
    "    double.NaN => \"Unknown\",\n",
    "    _ => \"Acceptable\",\n",
    "};"
   ]
  },
  {
   "cell_type": "markdown",
   "id": "cf5329e7",
   "metadata": {},
   "source": [
    "Pattern mathcing with deconstruct"
   ]
  },
  {
   "cell_type": "code",
   "execution_count": null,
   "id": "f84e46ee",
   "metadata": {},
   "outputs": [],
   "source": [
    "public readonly struct Point\n",
    "{\n",
    "    public int X { get; }\n",
    "    public int Y { get; }\n",
    "\n",
    "    public Point(int x, int y) => (X, Y) = (x, y);\n",
    "\n",
    "    public void Deconstruct(out int x, out int y) => (x, y) = (X, Y);\n",
    "}\n",
    "\n",
    "static string Classify(Point point) => point switch\n",
    "{\n",
    "    (0, 0) => \"Origin\",\n",
    "    (1, 0) => \"positive X basis end\",\n",
    "    (0, 1) => \"positive Y basis end\",\n",
    "    _ => \"Just a point\",\n",
    "};"
   ]
  },
  {
   "cell_type": "markdown",
   "id": "3bf02ef0",
   "metadata": {},
   "source": [
    "zastępstwwem dla let? moze byc var z when \n"
   ]
  },
  {
   "cell_type": "code",
   "execution_count": null,
   "id": "eca3ca2a",
   "metadata": {},
   "outputs": [],
   "source": [
    "static Point Transform(Point point) => point switch\n",
    "{\n",
    "    var (x, y) when x < y => new Point(-x, y),\n",
    "    var (x, y) when x > y => new Point(x, -y),\n",
    "    var (x, y) => new Point(x, y),\n",
    "};"
   ]
  },
  {
   "cell_type": "markdown",
   "id": "d7f2b241",
   "metadata": {},
   "source": [
    "W pattern matchingu _ reprezentuje cokolwiek i zazywa się discard patternem (w tym null)\n",
    "\n",
    "Mozna rowniez matchowwac z nawiasem logicznie do"
   ]
  },
  {
   "cell_type": "code",
   "execution_count": null,
   "id": "6c8d070f",
   "metadata": {},
   "outputs": [],
   "source": [
    "if (input is not (float or double))\n",
    "{\n",
    "    return;\n",
    "}"
   ]
  },
  {
   "cell_type": "markdown",
   "id": "e5981b95",
   "metadata": {},
   "source": [
    "### AS casting\n",
    "castowanie przy pomocy As korzysta z pattern matchingu \n",
    "\n",
    "The as operator considers only reference, nullable, boxing, and unboxing conversions. You can't use the as operator to perform a user-defined conversion. \n",
    "bez user defined!"
   ]
  },
  {
   "cell_type": "code",
   "execution_count": null,
   "id": "e574af08",
   "metadata": {},
   "outputs": [],
   "source": [
    "//as \n",
    "E as T\n",
    "//to samo co \n",
    "E is T ? (T)(E) : (T)null"
   ]
  },
  {
   "cell_type": "markdown",
   "id": "6608d4b3",
   "metadata": {},
   "source": [
    "### boxing/unboxing\n",
    "boxingiem nazywamy przypisanie do obiektu zmiennej niereferycjnej np:"
   ]
  },
  {
   "cell_type": "code",
   "execution_count": null,
   "id": "61f78752",
   "metadata": {},
   "outputs": [],
   "source": [
    "int i = 123;\n",
    "\n",
    "// Boxing copies the value of i into object o.\n",
    "object o = i;"
   ]
  },
  {
   "cell_type": "markdown",
   "id": "41fb3646",
   "metadata": {},
   "source": [
    "Boxing polega na przesunieciu zmiennej na stos. Jest komputacyjnie kosztowe, wymaga zaalokowania na stosie pamięci dla nowego obiektu i jego przesunięcie tam. Some caveata przy unboxingu np "
   ]
  },
  {
   "cell_type": "code",
   "execution_count": null,
   "id": "5dc54e85",
   "metadata": {},
   "outputs": [],
   "source": [
    "double e = 2.718281828459045;\n",
    "object o = e; // box\n",
    "int ee = (int)o; // runtime exception"
   ]
  },
  {
   "cell_type": "markdown",
   "id": "6ce92460",
   "metadata": {},
   "source": [
    "### Byte arrays\n",
    "LittleEdian\n",
    "\n",
    "### dynamic\n",
    "slowo kpluczowe dynamic overriduje statyczne typowanie c# i pozwala na typowanie w runtimie\n",
    "dynamic d2 = \"a string\";\n",
    "\n",
    "DLR umozliwil uzywanie dynamic w c#"
   ]
  },
  {
   "cell_type": "markdown",
   "id": "24016b23",
   "metadata": {},
   "source": [
    "# OOP\n",
    "\n",
    "### Inheritance\n",
    "\n",
    "New modifier excplicitly hides base class implementation of method. if new method is of the same name as method in base class new is assumed if not present. W przypadku **new** mozna wciaz sie dostac do bazowej metody skladnia bazowa."
   ]
  },
  {
   "cell_type": "code",
   "execution_count": null,
   "id": "fe1c3fea",
   "metadata": {},
   "outputs": [],
   "source": [
    "public class BaseC\n",
    "{\n",
    "    public int x;\n",
    "    public void Invoke() { }\n",
    "}\n",
    "public class DerivedC : BaseC\n",
    "{\n",
    "    new public void Invoke() { }\n",
    "}"
   ]
  },
  {
   "cell_type": "markdown",
   "id": "66348616",
   "metadata": {},
   "source": [
    "override no override\n",
    "The override modifier is required to extend or modify the abstract or virtual implementation of an inherited method, property, indexer, or event.\n",
    "\n",
    "The overridden property must be virtual, abstract, or override."
   ]
  },
  {
   "cell_type": "code",
   "execution_count": null,
   "id": "910613a4",
   "metadata": {},
   "outputs": [],
   "source": [
    "abstract class Shape\n",
    "{\n",
    "    public abstract int GetArea();\n",
    "}\n",
    "\n",
    "class Square : Shape\n",
    "{\n",
    "    //implementation\n",
    "}\n",
    "// Output: Area of the square = 144"
   ]
  },
  {
   "cell_type": "markdown",
   "id": "6c68e7aa",
   "metadata": {},
   "source": [
    "https://docs.microsoft.com/en-us/dotnet/csharp/programming-guide/classes-and-structs/knowing-when-to-use-override-and-new-keywords\n",
    "gdy implicit castujemy do klasy bazowej to przy new wykonamy metode klasy bazowej, przy override mimo ze jest typu bazowego wywola sie derived\n",
    "\n",
    "### readonly\n",
    "readonly fieldcan be assigned only in constructor\n",
    "\n",
    "readonly **value** types are immuteable. Reference types moga siie odnosic tylko do tego samego obiektu\n",
    "readolny struct-- struct jest imimutable\n",
    "ref readonly methos- metoda zwraca refeerncje i write nie jest d\n",
    "\n",
    "The readonly keyword is different from the const keyword. A const field can only be initialized at the declaration of the field. \n",
    "\n",
    "zasadnicza roznica: const jest compile time staly a readonly jest runtime staly\n",
    "### abstract/virtual\n",
    "virtual- derived class can override\n",
    "abstract- any non-abtract derived class must override\n",
    "### sealed\n",
    "aby zapobiec dziedziczeniu metod pol po calej klasie dajemy sealed\n",
    "\n",
    "\n",
    "### Finalizers (historically referred to as destructors) \n",
    "Finalizers cannot be defined in structs. They are only used with classes.\n",
    "A class can only have one finalizer.\n",
    "Finalizers cannot be inherited or overloaded.\n",
    "\n",
    "The programmer has no control over when the finalizer is called; the garbage collector decides when to call it.\n",
    "It's possible to force garbage collection by calling Collect, but most of the time, this call should be avoided because it may create performance issues.\n",
    "when your application encapsulates unmanaged resources, such as windows, files, and network connections, you should use finalizers to free those resources\n",
    "\n",
    "If your application is using an expensive external resource, we also recommend that you provide a way to explicitly release the resource before the garbage collector frees the object. To release the resource, implement a Dispose method from the IDisposable interface that performs the necessary cleanup for the object. This can considerably improve the performance of the application. Even with this explicit control over resources, the finalizer becomes a safeguard to clean up resources if the call to the Dispose method fails.\n",
    "\n",
    "### dispose\n",
    "Imlementujemy interfejs IDisposable. uwaga to jest lepsza metoda niz finalizer. finalezer dobry safeguarrd wtedy mozemy go supresowac"
   ]
  },
  {
   "cell_type": "code",
   "execution_count": null,
   "id": "895f19c1",
   "metadata": {},
   "outputs": [],
   "source": [
    "public void Dispose()\n",
    "{\n",
    "    // Dispose of unmanaged resources.\n",
    "    Dispose(true);\n",
    "    // Suppress finalization.\n",
    "    GC.SuppressFinalize(this);\n",
    "}"
   ]
  },
  {
   "cell_type": "markdown",
   "id": "7c0b0c76",
   "metadata": {},
   "source": [
    "### accebility keyword\n",
    "- protected: jezeli klasa dziedziczy to moze miec access\n",
    "\n",
    "A derived class has access to the public, protected, internal, and protected internal members of a base class. Even though a derived class inherits the private members of a base class, it cannot access those members. However, all those private members are still present in the derived class and can do the same work they would do in the base class itself. For example, suppose that a protected base class method accesses a private field. That field has to be present in the derived class in order for the inherited base class method to work properly.\n",
    "Wiec private sa dziedziczone ale nie ma do nich dostepu.\n",
    "- internal- kod w tym samym assembly ma do niego dostep\n",
    "- private protected\n",
    "- protected internal\n",
    "\n",
    "W c# pola klas i struktur sa z defaultu private\n",
    "Uwaga operatory musza byc zawsze public static.\n",
    "interfejsy moga byc public/internal, public z defaultu i ich pola sa public.\n",
    "delegaty sa z defaultu internal! i private gdy sa zagniezdzone"
   ]
  },
  {
   "cell_type": "markdown",
   "id": "0041569f",
   "metadata": {},
   "source": [
    "### field\n",
    "Generally, you should use fields only for variables that have private or protected accessibility. Data that your type exposes to client code should be provided through methods, properties, and indexers. By using these constructs for indirect access to internal fields, you can guard against invalid input values.\n",
    "Z defaultu uzywac propertiesow!\n",
    "propertiesy moga byc abstract i wtedy mozemy poweidziec ze np bedzie tylko get"
   ]
  },
  {
   "cell_type": "code",
   "execution_count": null,
   "id": "95bfd249",
   "metadata": {},
   "outputs": [],
   "source": [
    " // Area is a read-only property - only a get accessor is needed:\n",
    "    public abstract double Area\n",
    "    {\n",
    "        get;\n",
    "    }"
   ]
  },
  {
   "cell_type": "markdown",
   "id": "4a902450",
   "metadata": {},
   "source": [
    "Side note: object initializers:"
   ]
  },
  {
   "cell_type": "code",
   "execution_count": null,
   "id": "38154d7f",
   "metadata": {},
   "outputs": [],
   "source": [
    "Cat cat = new Cat { Age = 10, Name = \"Fluffy\" };"
   ]
  },
  {
   "cell_type": "markdown",
   "id": "bf0f3d3c",
   "metadata": {},
   "source": [
    "Od C#9 init accessor pozwwala na inicjalizacje readonly pol \n",
    "\n",
    "!!! propertiesy mozna wrzucac na interfesjach co jest ogromnym argumentem za ich uzywaniem\n",
    "\n",
    "propertiesy mozna auto inicjalizowac:"
   ]
  },
  {
   "cell_type": "code",
   "execution_count": null,
   "id": "2f82659e",
   "metadata": {},
   "outputs": [],
   "source": [
    "public string FirstName { get; set; } = \"Jane\";  "
   ]
  },
  {
   "cell_type": "markdown",
   "id": "7c238b2a",
   "metadata": {},
   "source": [
    "# Methods\n",
    "passing by value vs by ref\n",
    "Mozemy zwracac by reference"
   ]
  },
  {
   "cell_type": "code",
   "execution_count": null,
   "id": "90746337",
   "metadata": {},
   "outputs": [],
   "source": [
    "public ref double GetEstimatedDistance()\n",
    "{\n",
    "    return ref estDistance;\n",
    "}\n",
    "\n",
    "//to store returned value we must declare ref local\n",
    "ref int distance = Planet.GetEstimatedDistance();"
   ]
  },
  {
   "cell_type": "markdown",
   "id": "ccfe560f",
   "metadata": {},
   "source": [
    "## local functions\n",
    "Local functions are explicitly named like methods. Lambda expressions are anonymous methods and need to be assigned to variables of a delegate type, typically either Action or Func types. When you declare a local function\n",
    "\n",
    "Beginning with C# 10, some lambda expressions have a natural type, which enables the compiler to infer the return type and parameter types of the lambda expression.\n",
    "\n",
    "If you declare a local function and only reference it by calling it like a method, it will not be converted to a delegate.\n",
    "### variable capture\n",
    "funkcje mozna wywolwac przed ich definicja i lapac zmienne z innego zaseigu"
   ]
  },
  {
   "cell_type": "code",
   "execution_count": null,
   "id": "6e8da50c",
   "metadata": {},
   "outputs": [],
   "source": [
    "int M()\n",
    "{\n",
    "    int y;\n",
    "    LocalFunction();\n",
    "    return y;\n",
    "\n",
    "    void LocalFunction() => y = 0;\n",
    "}"
   ]
  },
  {
   "cell_type": "markdown",
   "id": "80eab3e4",
   "metadata": {},
   "source": [
    "The instantiation necessary for lambda expressions means extra memory allocations, which may be a performance factor in time-critical code paths. Local functions do not incur this overhead. ????\n",
    "\n",
    "w lambdach nie mozna uzywac yielda w locla functionach \n",
    "\n",
    "#### ref local\n",
    "The return value must have a lifetime that extends beyond the execution of the method. In other words, it cannot be a local variable in the method that returns it.\n",
    "jezeli przypiszemy Person p  bez slowa ref przekopiuje wartosci by value!"
   ]
  },
  {
   "cell_type": "code",
   "execution_count": null,
   "id": "28d92bb2",
   "metadata": {},
   "outputs": [],
   "source": [
    "ref Person p = ref contacts.GetContactInformation(\"Brandie\", \"Best\");"
   ]
  },
  {
   "cell_type": "markdown",
   "id": "d2622a37",
   "metadata": {},
   "source": [
    "A variable of a reference type does not contain its data directly; it contains a reference to its data. When you pass a reference-type parameter by value, it is possible to change the data belonging to the referenced object, such as the value of a class member. However, you cannot change the value of the reference itself\n",
    "\n",
    "string is a reference type but it is passed by value\n",
    "Strings are immutable!\n",
    "\n",
    "a struct is a value type"
   ]
  },
  {
   "cell_type": "markdown",
   "id": "0085c6af",
   "metadata": {},
   "source": [
    "### Extension methods\n",
    "rextensiony sa statyczne!\n",
    "When using an Onion Architecture or other layered application design, it's common to have a set of Domain Entities or Data Transfer Objects that can be used to communicate across application boundaries. These objects generally contain no functionality, or only minimal functionality that applies to all layers of the application. Extension methods can be used to add functionality that is specific to each application layer without loading the object down with methods not needed or wanted in other layers."
   ]
  },
  {
   "cell_type": "code",
   "execution_count": null,
   "id": "f12d6d20",
   "metadata": {},
   "outputs": [],
   "source": [
    "public class DomainEntity\n",
    "{\n",
    "    public int Id { get; set; }\n",
    "    public string FirstName { get; set; }\n",
    "    public string LastName { get; set; }\n",
    "}\n",
    "\n",
    "static class DomainEntityExtensions\n",
    "{\n",
    "    static string FullName(this DomainEntity value)\n",
    "        => $\"{value.FirstName} {value.LastName}\";\n",
    "}"
   ]
  },
  {
   "cell_type": "markdown",
   "id": "686c2567",
   "metadata": {},
   "source": [
    "### named optional arguments"
   ]
  },
  {
   "cell_type": "code",
   "execution_count": null,
   "id": "e141a1d4",
   "metadata": {},
   "outputs": [],
   "source": [
    "public void ExampleMethod(int required, string optionalstr = \"default string\",\n",
    "    int optionalint = 10)"
   ]
  },
  {
   "cell_type": "markdown",
   "id": "39234b18",
   "metadata": {},
   "source": [
    "## constructors\n",
    "Static constructors - do inicjalizacji statystcznych pol"
   ]
  },
  {
   "cell_type": "code",
   "execution_count": null,
   "id": "e29f597c",
   "metadata": {},
   "outputs": [],
   "source": [
    "public class Adult : Person\n",
    "{\n",
    "   private static int minimumAge;\n",
    "\n",
    "   public Adult(string lastName, string firstName) : base(lastName, firstName)\n",
    "   { }\n",
    "\n",
    "   static Adult()\n",
    "   {\n",
    "      minimumAge = 18;\n",
    "   }\n",
    "\n",
    "   // Remaining implementation of Adult class.\n",
    "}"
   ]
  },
  {
   "cell_type": "markdown",
   "id": "c65534cf",
   "metadata": {},
   "source": [
    "Private constructor- A private constructor is a special instance constructor. It is generally used in classes that contain static members only. If a class has one or more private constructors and no public constructors, other classes (except nested classes) cannot create instances of this class.\n",
    "\n",
    "Copy constructor- po prostu w parametrze obiekt tej samej klasy\n",
    "\n",
    "## Partial classes\n",
    "The partial modifier is not available on delegate or enumeration declarations.\n",
    "At compile time, attributes of partial-type definitions are merged\n",
    "\n",
    "All partial-type definitions meant to be parts of the same type must be defined in the same assembly and the same module\n",
    "\n",
    "partial metody- deklaracje jak w .h w cpp\n",
    "\n",
    "## Interfaces\n",
    "oddball od c#8 mozna implementowac interfejsy ale implementacja jest dotepna tylko na interfejsie nie na implementujacej klasie:"
   ]
  },
  {
   "cell_type": "code",
   "execution_count": null,
   "id": "02ed8062",
   "metadata": {},
   "outputs": [],
   "source": [
    "public interface IControl\n",
    "{\n",
    "    void Paint() => Console.WriteLine(\"Default Paint method\");\n",
    "}\n",
    "public class SampleClass : IControl\n",
    "{\n",
    "    // Paint() is inherited from IControl.\n",
    "}\n",
    "\n",
    "\n",
    "var sample = new SampleClass();\n",
    "//sample.Paint();// \"Paint\" isn't accessible.\n",
    "var control = sample as IControl;\n",
    "control.Paint();"
   ]
  },
  {
   "cell_type": "markdown",
   "id": "cad87de5",
   "metadata": {},
   "source": [
    "## Delegates\n",
    "A delegate is a type that represents references to methods with a particular parameter list and return type.\n",
    "\n",
    "delegates can be multicasted to remove a method from the invocation list, use the subtraction or subtraction assignment operators (- or -=)"
   ]
  },
  {
   "cell_type": "code",
   "execution_count": null,
   "id": "6754f5a7",
   "metadata": {},
   "outputs": [],
   "source": [
    "var obj = new MethodClass();\n",
    "Del d1 = obj.Method1;\n",
    "Del d2 = obj.Method2;\n",
    "Del d3 = DelegateMethod;\n",
    "\n",
    "//Both types of assignment are valid.\n",
    "Del allMethodsDelegate = d1 + d2;\n",
    "allMethodsDelegate += d3;\n",
    "//remove Method1\n",
    "allMethodsDelegate -= d1;\n",
    "\n",
    "// copy AllMethodsDelegate while removing d2\n",
    "Del oneMethodDelegate = allMethodsDelegate - d2;"
   ]
  },
  {
   "cell_type": "markdown",
   "id": "d7d42209",
   "metadata": {},
   "source": [
    "Beginning with C# 10, method groups with a single overload have a natural type. This means the compiler can infer the return type and parameter types for the delegate type:"
   ]
  },
  {
   "cell_type": "code",
   "execution_count": null,
   "id": "d3e61849",
   "metadata": {},
   "outputs": [],
   "source": [
    "var read = Console.Read; // Just one overload; Func<int> inferred\n",
    "var write = Console.Write; // ERROR: Multiple overloads, can't choose"
   ]
  },
  {
   "cell_type": "markdown",
   "id": "8b96324a",
   "metadata": {},
   "source": [
    "## arrays\n",
    "SomeType[] array4 = new SomeType[10];\n",
    "dla typow referencyjnych to stworzy 10 nulli dla value stworzy 10 zmiennych typu sometype\n",
    "\n",
    "- jagged array- tablica nierownomiernie wymiarowa\n",
    "\n",
    "foreach moze zplaszczyc tablice:"
   ]
  },
  {
   "cell_type": "code",
   "execution_count": null,
   "id": "5e51bf0f",
   "metadata": {},
   "outputs": [],
   "source": [
    "int[,] numbers2D = new int[3, 2] { { 9, 99 }, { 3, 33 }, { 5, 55 } };\n",
    "// Or use the short form:\n",
    "// int[,] numbers2D = { { 9, 99 }, { 3, 33 }, { 5, 55 } };\n",
    "\n",
    "foreach (int i in numbers2D)\n",
    "{\n",
    "    System.Console.Write(\"{0} \", i);\n",
    "}\n",
    "// Output: 9 99 3 33 5 55"
   ]
  },
  {
   "cell_type": "markdown",
   "id": "dca5d2f7",
   "metadata": {},
   "source": [
    "Using StringBuilder for Fast String Creation\n",
    "\n",
    "The StringBuilder class creates a string buffer that offers better performance if your program performs many string manipulations. The StringBuilder string also enables you to reassign individual characters, something the built-in string data type does not support. "
   ]
  },
  {
   "cell_type": "markdown",
   "id": "979fd96a",
   "metadata": {},
   "source": [
    "## extern\n",
    "dla importowanych metod\n",
    "\n",
    "[DllImport(\"avifil32.dll\")]\n",
    "private static extern void AVIFileInit();\n",
    "\n",
    "## eventy\n",
    "public event EventHandler<ShapeEventArgs> ShapeChanged;\n",
    "eventy robimy z event handlera generic jezeli mamy typ parametrow jezeli bez parametrow to po prostu albo przez dziedziczenie po event handlerze"
   ]
  },
  {
   "cell_type": "markdown",
   "id": "bc40bd9d",
   "metadata": {},
   "source": [
    "## generics\n",
    "\n",
    "constraints\n",
    "https://docs.microsoft.com/en-us/dotnet/csharp/programming-guide/generics/constraints-on-type-parameters\n",
    "- new() oznacza ze musi byc bezparametrowy konstruktor\n",
    "- class oznacza ze musi byc typ referencyjny"
   ]
  },
  {
   "cell_type": "markdown",
   "id": "ae8409e6",
   "metadata": {},
   "source": [
    "## records\n",
    "Not all data models work well with value equality. For example, Entity Framework Core depends on reference equality to ensure that it uses only one instance of an entity type for what is conceptually one entity. For this reason, record types aren't appropriate for use as entity types in Entity Framework Core."
   ]
  },
  {
   "cell_type": "markdown",
   "id": "97c580ab",
   "metadata": {},
   "source": [
    "# dedign patterns\n",
    "\n",
    "### Abstract factory\n",
    "abstract factory buduje rodizny boiektow ktore sa wariantami"
   ]
  },
  {
   "cell_type": "code",
   "execution_count": null,
   "id": "8b510f38",
   "metadata": {},
   "outputs": [],
   "source": [
    "  public interface IAbstractFactory\n",
    "    {\n",
    "        IAbstractProductA CreateProductA();\n",
    "\n",
    "        IAbstractProductB CreateProductB();\n",
    "    }"
   ]
  },
  {
   "cell_type": "markdown",
   "id": "cd8063f5",
   "metadata": {},
   "source": [
    "### builder\n",
    "builder trzyma za reke przy budowie \n",
    "\n",
    "Mozna uzyc z Director class jezeli automatyzowany jest proces budowy "
   ]
  },
  {
   "cell_type": "code",
   "execution_count": null,
   "id": "2a5f4575",
   "metadata": {},
   "outputs": [],
   "source": [
    " public interface IBuilder\n",
    "    {\n",
    "        void BuildPartA();\n",
    "        \n",
    "        void BuildPartB();\n",
    "        \n",
    "        void BuildPartC();\n",
    "    }\n",
    "// ... implementacja buildera ...\n",
    "    public class Director\n",
    "    {\n",
    "        private IBuilder _builder;\n",
    "        \n",
    "        public IBuilder Builder\n",
    "        {\n",
    "            set { _builder = value; } \n",
    "        }\n",
    "        \n",
    "        // The Director can construct several product variations using the same\n",
    "        // building steps.\n",
    "        public void BuildMinimalViableProduct()\n",
    "        {\n",
    "            this._builder.BuildPartA();\n",
    "        }\n",
    "        \n",
    "        public void BuildFullFeaturedProduct()\n",
    "        {\n",
    "            this._builder.BuildPartA();\n",
    "            this._builder.BuildPartB();\n",
    "            this._builder.BuildPartC();\n",
    "        }\n",
    "    }"
   ]
  },
  {
   "cell_type": "markdown",
   "id": "d093bfee",
   "metadata": {},
   "source": [
    "### factory \n",
    "pryzklad: logistyka\n",
    "Logistics obsluguje transport gdize wiekszosc logiki jest w klasie Truck. Chcemy dodac Ship. przesuwamy logike do klasy Logistics i ukrywamy tworzenie obiektu Truck Ship pod klasami dziedziczacymi roadLogistics i SeaLogistics ktore overriduja towrzneie obiektu ship/truck i dziela odziedziczona logike  \n",
    "```\n",
    "class Dialog is\n",
    "    abstract method createButton():Button\n",
    "\n",
    "     method render() is\n",
    "        // Call the factory method to create a product object.\n",
    "        Button okButton = createButton()\n",
    "        // Now use the product.\n",
    "        okButton.onClick(closeDialog)\n",
    "        okButton.render()\n",
    "\n",
    "\n",
    "class WindowsDialog extends Dialog is\n",
    "    method createButton():Button is\n",
    "        return new WindowsButton()\n",
    "\n",
    "class WebDialog extends Dialog is\n",
    "    method createButton():Button is\n",
    "        return new HTMLButton()\n",
    "interface Button is\n",
    "    method render()\n",
    "    method onClick(f)\n",
    "\n",
    "// Concrete products provide various implementations of the\n",
    "// product interface.\n",
    "class WindowsButton implements Button is\n",
    "    method render(a, b) is\n",
    "        // Render a button in Windows style.\n",
    "    method onClick(f) is\n",
    "        // Bind a native OS click event.\n",
    "\n",
    "class HTMLButton implements Button is\n",
    "    method render(a, b) is\n",
    "        // Return an HTML representation of a button.\n",
    "    method onClick(f) is\n",
    "        // Bind a web browser click event.\n",
    "\n",
    "```\n",
    "\n",
    "### Singleton\n",
    "Singleton lajtowo ma isntacje ktora ma statyczny construcotr i statyczny instance trzyma jedyna isntacje go. Aby byl thread safe trzeba zrobić locka ktory jest statyczny i blokuje przy tworzeniu w konstruktorze singleton tak aby nie wytworzyl sie w wielu watkach razem.\n",
    "\n",
    "### Prototype\n",
    "To jest ICloneable w c#. Obiekt posiada wlasna deifnicje klonowania i implementuje interfejs ktorym mozemy sie poslugiwac.\n",
    "\n",
    "## Structural\n",
    "\n",
    "### Adapter\n",
    "\n",
    "Tworzymy nowa klase Adapter ktora ma w srodku Adaptee i daje metode odslaniajaca cos w adaptee co wymaga opakowania.\n",
    "\n",
    "### Bridge\n",
    "Pryzdatny gdy korzystamy z  jakis ronzych DB/cloudow. Pozwala stworzyc abstrakcje nad implementacjami duzego obiektu i wymienic latwo implementacje. Generalnie cos takiego\n",
    "```\n",
    "class Abstraction\n",
    "    {\n",
    "        protected IImplementation _implementation;\n",
    "        \n",
    "        public Abstraction(IImplementation implementation)\n",
    "        {\n",
    "            this._implementation = implementation;\n",
    "        }\n",
    "        \n",
    "        public virtual string Operation()\n",
    "        {\n",
    "            return \"Abstract: Base operation with:\\n\" + \n",
    "                _implementation.OperationImplementation();\n",
    "        }\n",
    "    }\n",
    "```\n",
    "Bridge musi byc implementowany w poczatkowej fazie projekut\n",
    "\n",
    "### Composite\n",
    "Composite trzyma leafy ktore sa jego dziecmi w liscie. po prostu tree trzymajacy ponizsze moduly. Czesty przy gui.\n",
    "\n",
    "### Decorator\n",
    "Decorator dziedziczy po klasie ktora dekoruje i dodaje jakas funkcjonalnosc. Po prostu odslania metode przez override na metodzie i wywolaniu w componencie jej.\n",
    "\n",
    "### Facade\n",
    "Fasada Ukrywa skomplikowanie systemu w jednym obiekcie ograniczajacym api ale prostszym. Ukrywasz pare bibliotek pod tym i wywolujesz jedna operacje robioca tam duzo.\n",
    "\n",
    "### Flyweight \n",
    "Flyweight oszczedza ram . Creation method zwraca zcacheowany obiekt zamiast tworzyc nowy.\n",
    "Istnieje w niej shared state\n",
    "### Proxy\n",
    "tworzymy klasie imlementujaca interfejs serwisu ktory chcemy proxieowac robimy operacje i podajemy dalej.\n",
    "W porownaniu do Adaptera podaje ten sam interfejs.\n",
    "\n",
    "## Behavioral patterns\n",
    "### Chain of Responsibility \n",
    "tworzymy interfejs handler ktory ustala next handler\n",
    "i robimy cos w stylu\n",
    "\n",
    "```\n",
    "var monkey = new MonkeyHandler();\n",
    "            var squirrel = new SquirrelHandler();\n",
    "            var dog = new DogHandler();\n",
    "\n",
    "            monkey.SetNext(squirrel).SetNext(dog);\n",
    "```\n",
    "\n",
    "### Command\n",
    "Pakujemy operacje w obiekt o interfejsie z np execute.\n",
    "Popularny w ui jako alternatywa dla callbackow i kolejkowaniu taskow, historii operacji.\n",
    "### Iterator\n",
    "No iterator idzie przez kolekcje cnie\n",
    "### Mediator\n",
    "Mediator reduces coupling between components\n",
    "Mediator wystawia interfejs umozliwiajacy jego notifikacje, nastepnie wykonuje akcje bazujac na tej notyfikacji, zazwyczaj wywolujac metody na komponentach ktore zostaly mu przekazane w konstruktorze. Jest centralnym miejscem przekazujacym wiadomosci\n",
    "\n",
    "### Memento \n",
    "umozliwia zapisywanie snapshotow obiektow. W c# rzadko uzywany lepiej robic serializacje.\n",
    "\n",
    "### Observer\n",
    "Observer ma metode Update, Subjectect ma attach na observer. To znaczy jezeli na subject jest next nastepny state to wsyzstkie observery so o tym poinformowane. \n",
    "\n",
    "### Strategy\n",
    "Interfejs IStrategy wystawia metode bedaca logika, istnieje lilka jej implementacji.\n",
    "istnieje metoda w klasie kontekstu ustawiajac astrategoie i kod tam se z niej korzysta.\n",
    "### State\n",
    "Jest jest uzywany zeby wywalic switche. State ma metode transition to ktora bierze kolejny state. Sam state ma rozne handlery ktore  obsluguja w zaleznosci od obecnego stanu.\n",
    "\n",
    "### template\n",
    "pozwala zdefiniowac jak wyglada mniej wiecej algorytmn i pozniej goimlementowac\n",
    "Poozwala tworcom bibliotek pozostawic imlementacje dla uzytkonwika.\n",
    "\n",
    "### visitor\n",
    "nieuzywany pozwala rozszerzyc funkcjonalnosc hierarchii klas bez ich modyfikacji. skomplikowany"
   ]
  },
  {
   "cell_type": "code",
   "execution_count": null,
   "id": "0f678479",
   "metadata": {},
   "outputs": [],
   "source": []
  }
 ],
 "metadata": {
  "kernelspec": {
   "display_name": ".NET (C#)",
   "language": "C#",
   "name": ".net-csharp"
  },
  "language_info": {
   "file_extension": ".cs",
   "mimetype": "text/x-csharp",
   "name": "C#",
   "pygments_lexer": "csharp",
   "version": "9.0"
  }
 },
 "nbformat": 4,
 "nbformat_minor": 5
}
